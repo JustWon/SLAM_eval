{
 "cells": [
  {
   "cell_type": "code",
   "execution_count": 91,
   "metadata": {},
   "outputs": [],
   "source": [
    "import os\n",
    "from glob import glob\n",
    "from pandas import DataFrame\n",
    "import pandas as pd\n",
    "import configparser\n",
    "import subprocess as sp\n",
    "import matplotlib.pyplot as plt\n",
    "import pprint\n",
    "\n",
    "%matplotlib inline\n",
    "\n",
    "import warnings\n",
    "warnings.filterwarnings('ignore')"
   ]
  },
  {
   "cell_type": "code",
   "execution_count": 143,
   "metadata": {},
   "outputs": [],
   "source": [
    "bench_start = '2018-11-07_12:05:48'\n",
    "bench_end = '2018-11-07_12:14:30'\n",
    "\n",
    "experiments_path = '/home/dongwonshin/Desktop/SLAM_eval/Experiment_Results'\n",
    "all_benchmarks = sorted(glob('%s/*' % experiments_path))\n",
    "\n",
    "# benchmark filtereing\n",
    "filtered_benchmarks = []\n",
    "for benchmark in all_benchmarks:\n",
    "    if (bench_start <= benchmark.split('/')[-1] and benchmark.split('/')[-1] <= bench_end):\n",
    "        filtered_benchmarks.append(benchmark)\n",
    "\n",
    "df = DataFrame()\n",
    "for benchmark in filtered_benchmarks:\n",
    "    config = configparser.ConfigParser()\n",
    "    config.read(os.path.join(benchmark, 'POI.ini'))\n",
    "    target_kitti_data = config.get('PARAMETERS','target_kitti_data')\n",
    "    icp_config = config.get('PARAMETERS','icp_config')\n",
    "    odom_config = config.get('PARAMETERS','odom_config')\n",
    "\n",
    "    df = df.append({\"benchmark_path\": benchmark.split('/')[-1],\n",
    "                    \"target_kitti_data\": target_kitti_data, \n",
    "                    \"icp_config\": icp_config, \n",
    "                    \"odom_config\" : odom_config}, ignore_index = True)\n",
    "\n",
    "# target_benchmarks = df.loc[df['target_kitti_data']==str(4)]\n",
    "# print(target_benchmarks)\n",
    "\n",
    "for eval_type in ['ape', 'rpe']:\n",
    "    result_files = \"\"\n",
    "    for index, row in df.iterrows():\n",
    "        result_files += os.path.join('\\\"%s' % experiments_path ,row['benchmark_path'],'%s_eval/%s_results.zip\\\"' % (eval_type, eval_type)) + \" \"\n",
    "    \n",
    "    os.system('evo_res %s --save_table %s_table.csv --use_filenames --no_warnings --silent' % (result_files, eval_type))"
   ]
  },
  {
   "cell_type": "code",
   "execution_count": 144,
   "metadata": {},
   "outputs": [],
   "source": [
    "def constructe_table(table_file, df, target_kitti_data):\n",
    "    table = pd.read_csv(table_file)\n",
    "    for idx in range(len(df)):\n",
    "        table.ix[:,0][idx] = table.ix[:,0][idx].split('/')[-3]\n",
    "\n",
    "    table.columns = ['benchmark_path', 'max', 'mean', 'median', 'min', 'rmse', 'sse', 'std']\n",
    "    table = pd.merge(table,df)\n",
    "\n",
    "    table = table[table['target_kitti_data']==str(target_kitti_data)]\n",
    "    return table\n",
    "\n",
    "def bar_plot(table):\n",
    "    table.ix[:,5].plot(kind = 'bar')\n",
    "    plt.title(\"rpe_table\")\n",
    "    plt.show()"
   ]
  },
  {
   "cell_type": "code",
   "execution_count": 161,
   "metadata": {},
   "outputs": [
    {
     "name": "stdout",
     "output_type": "stream",
     "text": [
      "target_kitti_data : 1\n",
      "        benchmark_path        rmse    icp_config   odom_config\n",
      "0  2018-11-07_12:05:48   40.267111  semantic_icp     with_odom\n",
      "1  2018-11-07_12:07:56  159.772830  semantic_icp  without_odom\n",
      "2  2018-11-07_12:10:04   39.178106  ordinary_icp     with_odom\n",
      "3  2018-11-07_12:12:12  149.170303  ordinary_icp  without_odom\n"
     ]
    },
    {
     "data": {
      "image/png": "[encoded data removed]",
      "text/plain": [
       "<Figure size 432x288 with 1 Axes>"
      ]
     },
     "metadata": {
      "needs_background": "light"
     },
     "output_type": "display_data"
    },
    {
     "name": "stdout",
     "output_type": "stream",
     "text": [
      "target_kitti_data : 4\n",
      "        benchmark_path       rmse    icp_config   odom_config\n",
      "4  2018-11-07_12:12:47   1.476379  semantic_icp     with_odom\n",
      "5  2018-11-07_12:13:21  25.411965  semantic_icp  without_odom\n",
      "6  2018-11-07_12:13:56   1.321546  ordinary_icp     with_odom\n",
      "7  2018-11-07_12:14:30  21.655981  ordinary_icp  without_odom\n"
     ]
    },
    {
     "data": {
      "image/png": "[encoded data removed]",
      "text/plain": [
       "<Figure size 432x288 with 1 Axes>"
      ]
     },
     "metadata": {
      "needs_background": "light"
     },
     "output_type": "display_data"
    }
   ],
   "source": [
    "for target_kitti_data in [1,4]:\n",
    "    print('target_kitti_data : %d' % target_kitti_data)\n",
    "    ape_table = constructe_table('ape_table.csv', df, target_kitti_data)\n",
    "    print(ape_table[['benchmark_path','rmse','icp_config','odom_config']])\n",
    "    bar_plot(ape_table)"
   ]
  },
  {
   "cell_type": "code",
   "execution_count": 162,
   "metadata": {},
   "outputs": [
    {
     "name": "stdout",
     "output_type": "stream",
     "text": [
      "target_kitti_data : 1\n",
      "        benchmark_path      rmse    icp_config   odom_config\n",
      "0  2018-11-07_12:05:48  3.696191  semantic_icp     with_odom\n",
      "1  2018-11-07_12:07:56  3.411158  semantic_icp  without_odom\n",
      "2  2018-11-07_12:10:04  3.665657  ordinary_icp     with_odom\n",
      "3  2018-11-07_12:12:12  3.407476  ordinary_icp  without_odom\n"
     ]
    },
    {
     "data": {
      "image/png": "[encoded data removed]",
      "text/plain": [
       "<Figure size 432x288 with 1 Axes>"
      ]
     },
     "metadata": {
      "needs_background": "light"
     },
     "output_type": "display_data"
    },
    {
     "name": "stdout",
     "output_type": "stream",
     "text": [
      "target_kitti_data : 4\n",
      "        benchmark_path      rmse    icp_config   odom_config\n",
      "4  2018-11-07_12:12:47  2.772293  semantic_icp     with_odom\n",
      "5  2018-11-07_12:13:21  2.445391  semantic_icp  without_odom\n",
      "6  2018-11-07_12:13:56  2.752267  ordinary_icp     with_odom\n",
      "7  2018-11-07_12:14:30  2.336148  ordinary_icp  without_odom\n"
     ]
    },
    {
     "data": {
      "image/png": "[encoded data removed]",
      "text/plain": [
       "<Figure size 432x288 with 1 Axes>"
      ]
     },
     "metadata": {
      "needs_background": "light"
     },
     "output_type": "display_data"
    }
   ],
   "source": [
    "for target_kitti_data in [1,4]:\n",
    "    print('target_kitti_data : %d' % target_kitti_data)\n",
    "    rpe_table = constructe_table('rpe_table.csv', df, target_kitti_data)\n",
    "    print(rpe_table[['benchmark_path','rmse','icp_config','odom_config']])\n",
    "    bar_plot(rpe_table)"
   ]
  },
  {
   "cell_type": "code",
   "execution_count": null,
   "metadata": {},
   "outputs": [],
   "source": []
  }
 ],
 "metadata": {
  "kernelspec": {
   "display_name": "Python 3",
   "language": "python",
   "name": "python3"
  },
  "language_info": {
   "codemirror_mode": {
    "name": "ipython",
    "version": 3
   },
   "file_extension": ".py",
   "mimetype": "text/x-python",
   "name": "python",
   "nbconvert_exporter": "python",
   "pygments_lexer": "ipython3",
   "version": "3.7.0"
  }
 },
 "nbformat": 4,
 "nbformat_minor": 2
}
